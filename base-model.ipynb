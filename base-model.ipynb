{
 "cells": [
  {
   "cell_type": "markdown",
   "id": "4cb629dc-de3a-49fb-b5be-c1143fb708de",
   "metadata": {},
   "source": [
    "### Packages"
   ]
  },
  {
   "cell_type": "code",
   "execution_count": 2,
   "id": "082717ab-bcc5-4fe7-b8f8-11faa34e7892",
   "metadata": {},
   "outputs": [],
   "source": [
    "import pandas as pd\n",
    "import joblib \n",
    "\n",
    "from sklearn.model_selection import train_test_split \n",
    "\n",
    "from sklearn.pipeline import Pipeline\n",
    "from sklearn.preprocessing import OneHotEncoder\n",
    "from sklearn.preprocessing import StandardScaler\n",
    "from sklearn.compose import ColumnTransformer\n",
    "\n",
    "from sklearn.decomposition import PCA\n",
    "\n",
    "from sklearn.neighbors import KNeighborsClassifier\n",
    "from sklearn.model_selection import GridSearchCV\n",
    "\n",
    "from sklearn.metrics import accuracy_score\n",
    "from sklearn.metrics import plot_confusion_matrix\n",
    "from sklearn.metrics import classification_report\n",
    "from sklearn.metrics import roc_auc_score\n",
    "from sklearn.metrics import log_loss"
   ]
  },
  {
   "cell_type": "markdown",
   "id": "45f752bf-1ce5-4962-a4c8-e344f0840747",
   "metadata": {
    "tags": []
   },
   "source": [
    "### Split data into train/test"
   ]
  },
  {
   "cell_type": "code",
   "execution_count": 2,
   "id": "a53d709a-1156-41f6-8b32-7b2dc8bee322",
   "metadata": {},
   "outputs": [],
   "source": [
    "df = pd.read_csv('data/heart.csv')"
   ]
  },
  {
   "cell_type": "code",
   "execution_count": 14,
   "id": "b6ec39b2-5ce7-4609-8035-2594d8ba041a",
   "metadata": {},
   "outputs": [],
   "source": [
    "X = df.drop(columns='HeartDisease')\n",
    "y = df['HeartDisease']\n",
    "\n",
    "X_train, X_test, y_train, y_test = train_test_split(X, y, test_size=0.3)"
   ]
  },
  {
   "cell_type": "code",
   "execution_count": 15,
   "id": "8b1a609c-2c2d-4647-a82f-9296e8dea23a",
   "metadata": {},
   "outputs": [],
   "source": [
    "#X_train.to_csv('base_Xtr.csv')\n",
    "#X_test.to_csv('base_Xtst.csv')\n",
    "#y_train.to_csv('base_ytr.csv')\n",
    "#y_test.to_csv('base_ytst.csv')"
   ]
  },
  {
   "cell_type": "markdown",
   "id": "be3bc7f7-df83-41f4-b51e-2845662ba699",
   "metadata": {
    "tags": []
   },
   "source": [
    "### Set up preprocessing pipeline "
   ]
  },
  {
   "cell_type": "code",
   "execution_count": 16,
   "id": "b6503152-fc6d-4cb8-ad81-45db1b0c0f5b",
   "metadata": {},
   "outputs": [],
   "source": [
    "numeric_scaling = Pipeline([('scaler', StandardScaler())])\n",
    "categoric_encoding = Pipeline([('encoder',OneHotEncoder())])"
   ]
  },
  {
   "cell_type": "code",
   "execution_count": 17,
   "id": "d671c02c-39fa-40a5-958c-d2baabdaaccc",
   "metadata": {},
   "outputs": [],
   "source": [
    "num_cols = df.select_dtypes(include=['int64','float64']).columns.drop('HeartDisease')\n",
    "\n",
    "cat_cols = df.select_dtypes(include=['object']).columns"
   ]
  },
  {
   "cell_type": "code",
   "execution_count": 18,
   "id": "9a479be8-7b89-4883-ac56-495e7a399f87",
   "metadata": {},
   "outputs": [],
   "source": [
    "preprocessing = ColumnTransformer([\n",
    "    ('numeric_features',numeric_scaling, num_cols),\n",
    "    ('categoric_features',categoric_encoding,cat_cols)],remainder='passthrough')"
   ]
  },
  {
   "cell_type": "markdown",
   "id": "0ce026c0-29e1-4aff-a128-a625520c8b26",
   "metadata": {
    "tags": []
   },
   "source": [
    "### Base model"
   ]
  },
  {
   "cell_type": "code",
   "execution_count": 19,
   "id": "cfdc1095-3507-4ba8-9244-4b00d316d55b",
   "metadata": {},
   "outputs": [],
   "source": [
    "base = Pipeline(steps=[('processing', preprocessing),\n",
    "                           ('classifier',KNeighborsClassifier())])"
   ]
  },
  {
   "cell_type": "code",
   "execution_count": 20,
   "id": "884c1707-6e1e-4628-b405-4c9b1875c8d7",
   "metadata": {},
   "outputs": [
    {
     "data": {
      "text/plain": [
       "Pipeline(steps=[('processing',\n",
       "                 ColumnTransformer(remainder='passthrough',\n",
       "                                   transformers=[('numeric_features',\n",
       "                                                  Pipeline(steps=[('scaler',\n",
       "                                                                   StandardScaler())]),\n",
       "                                                  Index(['Age', 'RestingBP', 'Cholesterol', 'FastingBS', 'MaxHR', 'Oldpeak'], dtype='object')),\n",
       "                                                 ('categoric_features',\n",
       "                                                  Pipeline(steps=[('encoder',\n",
       "                                                                   OneHotEncoder())]),\n",
       "                                                  Index(['Sex', 'ChestPainType', 'RestingECG', 'ExerciseAngina', 'ST_Slope'], dtype='object'))])),\n",
       "                ('classifier', KNeighborsClassifier())])"
      ]
     },
     "execution_count": 20,
     "metadata": {},
     "output_type": "execute_result"
    }
   ],
   "source": [
    "base.fit(X_train,y_train)"
   ]
  },
  {
   "cell_type": "code",
   "execution_count": 22,
   "id": "e240378b-34a3-4e77-9190-c7e4e7f8621d",
   "metadata": {},
   "outputs": [
    {
     "data": {
      "text/plain": [
       "0.8623188405797102"
      ]
     },
     "execution_count": 22,
     "metadata": {},
     "output_type": "execute_result"
    }
   ],
   "source": [
    "y_pred = base.predict(X_test)\n",
    "accuracy_score(y_pred,y_test)"
   ]
  },
  {
   "cell_type": "code",
   "execution_count": 25,
   "id": "88c86276-1849-4216-b912-079f98bcba3d",
   "metadata": {},
   "outputs": [
    {
     "data": {
      "text/plain": [
       "['saved-models/baseKNclf.joblib']"
      ]
     },
     "execution_count": 25,
     "metadata": {},
     "output_type": "execute_result"
    }
   ],
   "source": [
    "#joblib.dump(base, 'saved-models/baseKNclf.joblib') "
   ]
  },
  {
   "cell_type": "markdown",
   "id": "853c1540-5c16-4c6b-b301-89b4c1c04b65",
   "metadata": {
    "tags": []
   },
   "source": [
    "### Grid Search on base model"
   ]
  },
  {
   "cell_type": "code",
   "execution_count": 51,
   "id": "ffb0a4c2-a08b-42c3-a77d-d0b3b03456ce",
   "metadata": {},
   "outputs": [
    {
     "name": "stdout",
     "output_type": "stream",
     "text": [
      "CPU times: user 5.38 s, sys: 556 ms, total: 5.94 s\n",
      "Wall time: 3.25 s\n"
     ]
    },
    {
     "data": {
      "text/plain": [
       "GridSearchCV(cv=5,\n",
       "             estimator=Pipeline(steps=[('processing',\n",
       "                                        ColumnTransformer(remainder='passthrough',\n",
       "                                                          transformers=[('numeric_features',\n",
       "                                                                         Pipeline(steps=[('scaler',\n",
       "                                                                                          StandardScaler())]),\n",
       "                                                                         Index(['Age', 'RestingBP', 'Cholesterol', 'FastingBS', 'MaxHR', 'Oldpeak'], dtype='object')),\n",
       "                                                                        ('categoric_features',\n",
       "                                                                         Pipeline(steps=[('encoder',\n",
       "                                                                                          OneHotEncoder())]),\n",
       "                                                                         Index(['Sex', 'ChestPainType', 'RestingECG', 'ExerciseAngina', 'ST_Slope'], dtype='object'))])),\n",
       "                                       ('classifier', KNeighborsClassifier())]),\n",
       "             param_grid={'classifier__leaf_size': [10, 20, 30, 40],\n",
       "                         'classifier__n_neighbors': [4, 5, 6, 7, 8, 9]})"
      ]
     },
     "execution_count": 51,
     "metadata": {},
     "output_type": "execute_result"
    }
   ],
   "source": [
    "%%time\n",
    "# Find the best hyperparameters using GridSearchCV on the train set\n",
    "param_grid = {'classifier__n_neighbors':[4,5,6,7,8,9],\n",
    "             'classifier__leaf_size':[10,20,30,40]\n",
    "             }\n",
    "base_grid = GridSearchCV(base, param_grid=param_grid, cv=5)\n",
    "base_grid.fit(X_train, y_train)"
   ]
  },
  {
   "cell_type": "code",
   "execution_count": 52,
   "id": "924751c0-c1bf-46a4-bbb1-c52da8338c16",
   "metadata": {},
   "outputs": [
    {
     "data": {
      "text/plain": [
       "['KNclf_gridsearch.joblib']"
      ]
     },
     "execution_count": 52,
     "metadata": {},
     "output_type": "execute_result"
    }
   ],
   "source": [
    "best_base = base_grid.best_estimator_\n",
    "#joblib.dump(best_base,'KNclf_gridsearch.joblib')"
   ]
  },
  {
   "cell_type": "code",
   "execution_count": 53,
   "id": "3da75ce0-53b4-4056-b806-834ccd428b65",
   "metadata": {},
   "outputs": [
    {
     "data": {
      "text/plain": [
       "<bound method Pipeline.get_params of Pipeline(steps=[('processing',\n",
       "                 ColumnTransformer(remainder='passthrough',\n",
       "                                   transformers=[('numeric_features',\n",
       "                                                  Pipeline(steps=[('scaler',\n",
       "                                                                   StandardScaler())]),\n",
       "                                                  Index(['Age', 'RestingBP', 'Cholesterol', 'FastingBS', 'MaxHR', 'Oldpeak'], dtype='object')),\n",
       "                                                 ('categoric_features',\n",
       "                                                  Pipeline(steps=[('encoder',\n",
       "                                                                   OneHotEncoder())]),\n",
       "                                                  Index(['Sex', 'ChestPainType', 'RestingECG', 'ExerciseAngina', 'ST_Slope'], dtype='object'))])),\n",
       "                ('classifier',\n",
       "                 KNeighborsClassifier(leaf_size=10, n_neighbors=7))])>"
      ]
     },
     "execution_count": 53,
     "metadata": {},
     "output_type": "execute_result"
    }
   ],
   "source": [
    "best_base.get_params"
   ]
  },
  {
   "cell_type": "code",
   "execution_count": 54,
   "id": "35264219-9943-4a2f-8263-d11876b862bc",
   "metadata": {},
   "outputs": [
    {
     "data": {
      "text/plain": [
       "0.8623188405797102"
      ]
     },
     "execution_count": 54,
     "metadata": {},
     "output_type": "execute_result"
    }
   ],
   "source": [
    "y_pred = best_base.predict(X_test)\n",
    "accuracy_score(y_pred,y_test)"
   ]
  },
  {
   "cell_type": "markdown",
   "id": "d1216574-68ea-4f08-84ed-4488f35df4b1",
   "metadata": {
    "tags": []
   },
   "source": [
    "### Grid Search on base model with PCA"
   ]
  },
  {
   "cell_type": "code",
   "execution_count": 56,
   "id": "f6c796a0-aa03-47bf-b11e-c796e35d46de",
   "metadata": {},
   "outputs": [],
   "source": [
    "base_pca = Pipeline(steps=[('processing', preprocessing),\n",
    "                           ('pca',PCA()),\n",
    "                           ('classifier',KNeighborsClassifier())])"
   ]
  },
  {
   "cell_type": "code",
   "execution_count": 74,
   "id": "30f655f0-4734-459f-ba8c-28cfd39ca984",
   "metadata": {},
   "outputs": [
    {
     "name": "stdout",
     "output_type": "stream",
     "text": [
      "CPU times: user 24.7 s, sys: 2.17 s, total: 26.9 s\n",
      "Wall time: 15 s\n"
     ]
    },
    {
     "data": {
      "text/plain": [
       "GridSearchCV(cv=5,\n",
       "             estimator=Pipeline(steps=[('processing',\n",
       "                                        ColumnTransformer(remainder='passthrough',\n",
       "                                                          transformers=[('numeric_features',\n",
       "                                                                         Pipeline(steps=[('scaler',\n",
       "                                                                                          StandardScaler())]),\n",
       "                                                                         Index(['Age', 'RestingBP', 'Cholesterol', 'FastingBS', 'MaxHR', 'Oldpeak'], dtype='object')),\n",
       "                                                                        ('categoric_features',\n",
       "                                                                         Pipeline(steps=[('encoder',\n",
       "                                                                                          OneHotEncoder())]),\n",
       "                                                                         Index(['Sex', 'ChestPainType', 'RestingECG', 'ExerciseAngina', 'ST_Slope'], dtype='object'))])),\n",
       "                                       ('pca', PCA()),\n",
       "                                       ('classifier', KNeighborsClassifier())]),\n",
       "             param_grid={'classifier__leaf_size': [10, 20, 30, 40],\n",
       "                         'classifier__n_neighbors': [4, 5, 6, 7, 8, 9],\n",
       "                         'pca__n_components': [6, 8, 10, 12]})"
      ]
     },
     "execution_count": 74,
     "metadata": {},
     "output_type": "execute_result"
    }
   ],
   "source": [
    "%%time\n",
    "# Find the best hyperparameters using GridSearchCV on the train set\n",
    "param_grid = {'pca__n_components':[6,8,10,12],\n",
    "             'classifier__n_neighbors':[4,5,6,7,8,9],\n",
    "             'classifier__leaf_size':[10,20,30,40]\n",
    "             }\n",
    "base_pca_grid = GridSearchCV(base_pca, param_grid=param_grid, cv=5)\n",
    "base_pca_grid.fit(X_train, y_train)"
   ]
  },
  {
   "cell_type": "code",
   "execution_count": 75,
   "id": "1896f400-9e57-4b6b-9640-738518adb182",
   "metadata": {},
   "outputs": [
    {
     "data": {
      "text/plain": [
       "['KNclf_gridsearch_pca.joblib']"
      ]
     },
     "execution_count": 75,
     "metadata": {},
     "output_type": "execute_result"
    }
   ],
   "source": [
    "best_pca_base = base_pca_grid.best_estimator_\n",
    "#joblib.dump(best_pca_base,'KNclf_gridsearch_pca.joblib')"
   ]
  },
  {
   "cell_type": "code",
   "execution_count": 76,
   "id": "540d948f-7b67-4894-98f3-ce06cf4e01c1",
   "metadata": {},
   "outputs": [
    {
     "data": {
      "text/plain": [
       "<bound method Pipeline.get_params of Pipeline(steps=[('processing',\n",
       "                 ColumnTransformer(remainder='passthrough',\n",
       "                                   transformers=[('numeric_features',\n",
       "                                                  Pipeline(steps=[('scaler',\n",
       "                                                                   StandardScaler())]),\n",
       "                                                  Index(['Age', 'RestingBP', 'Cholesterol', 'FastingBS', 'MaxHR', 'Oldpeak'], dtype='object')),\n",
       "                                                 ('categoric_features',\n",
       "                                                  Pipeline(steps=[('encoder',\n",
       "                                                                   OneHotEncoder())]),\n",
       "                                                  Index(['Sex', 'ChestPainType', 'RestingECG', 'ExerciseAngina', 'ST_Slope'], dtype='object'))])),\n",
       "                ('pca', PCA(n_components=12)),\n",
       "                ('classifier',\n",
       "                 KNeighborsClassifier(leaf_size=10, n_neighbors=9))])>"
      ]
     },
     "execution_count": 76,
     "metadata": {},
     "output_type": "execute_result"
    }
   ],
   "source": [
    "best_pca_base.get_params"
   ]
  },
  {
   "cell_type": "code",
   "execution_count": 77,
   "id": "e019810d-b055-41cb-b319-1b3e2f68fcb1",
   "metadata": {},
   "outputs": [
    {
     "data": {
      "text/plain": [
       "0.8659420289855072"
      ]
     },
     "execution_count": 77,
     "metadata": {},
     "output_type": "execute_result"
    }
   ],
   "source": [
    "y_pred = best_pca_base.predict(X_test)\n",
    "accuracy_score(y_pred,y_test)"
   ]
  },
  {
   "cell_type": "markdown",
   "id": "01c11945-fcc6-4e2d-a0d3-c2d1100a7228",
   "metadata": {},
   "source": [
    "### Evaluation metrics of all base-models"
   ]
  },
  {
   "cell_type": "code",
   "execution_count": null,
   "id": "1a23653a-70f9-4820-bd63-c7e06400015e",
   "metadata": {},
   "outputs": [],
   "source": []
  },
  {
   "cell_type": "code",
   "execution_count": null,
   "id": "3ce6f1fc-c13a-48af-a704-bda61d53ee84",
   "metadata": {},
   "outputs": [],
   "source": []
  }
 ],
 "metadata": {
  "kernelspec": {
   "display_name": "ML_env",
   "language": "python",
   "name": "ml_env"
  },
  "language_info": {
   "codemirror_mode": {
    "name": "ipython",
    "version": 3
   },
   "file_extension": ".py",
   "mimetype": "text/x-python",
   "name": "python",
   "nbconvert_exporter": "python",
   "pygments_lexer": "ipython3",
   "version": "3.6.13"
  }
 },
 "nbformat": 4,
 "nbformat_minor": 5
}
