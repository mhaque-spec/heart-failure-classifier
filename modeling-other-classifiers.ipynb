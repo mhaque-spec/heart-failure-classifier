{
 "cells": [
  {
   "cell_type": "markdown",
   "id": "a932f1e3-a95f-488a-9142-94a0c42c6900",
   "metadata": {},
   "source": [
    "### Packages"
   ]
  },
  {
   "cell_type": "code",
   "execution_count": 9,
   "id": "5f5c0441-d835-46cd-83b6-348d231b6b87",
   "metadata": {},
   "outputs": [],
   "source": [
    "import pandas as pd\n",
    "import joblib \n",
    "\n",
    "from sklearn.model_selection import train_test_split \n",
    "\n",
    "from sklearn.pipeline import Pipeline\n",
    "from sklearn.preprocessing import OneHotEncoder\n",
    "from sklearn.preprocessing import StandardScaler\n",
    "from sklearn.compose import ColumnTransformer\n",
    "\n",
    "from sklearn.decomposition import PCA\n",
    "\n",
    "from sklearn.ensemble import RandomForestClassifier\n",
    "from sklearn.model_selection import GridSearchCV\n",
    "\n",
    "from sklearn.metrics import accuracy_score"
   ]
  },
  {
   "cell_type": "markdown",
   "id": "68fd4d03-ee02-42fb-97b8-7d36181327b6",
   "metadata": {},
   "source": [
    "### Data and train/test split"
   ]
  },
  {
   "cell_type": "code",
   "execution_count": 2,
   "id": "4de1557f-7243-4660-add3-e8aadd1106a5",
   "metadata": {
    "tags": []
   },
   "outputs": [],
   "source": [
    "df = pd.read_csv('data/heart.csv')\n",
    "\n",
    "X = df.drop(columns='HeartDisease')\n",
    "y = df['HeartDisease']\n",
    "\n",
    "X_train, X_test, y_train, y_test = train_test_split(X, y, test_size=0.3)"
   ]
  },
  {
   "cell_type": "markdown",
   "id": "777548b4-f099-4e0b-b284-9d00d275e46a",
   "metadata": {},
   "source": [
    "### Preprocessing and column transformer"
   ]
  },
  {
   "cell_type": "code",
   "execution_count": 3,
   "id": "250d7e6e-e7aa-4478-8e94-5f9174d031a8",
   "metadata": {},
   "outputs": [],
   "source": [
    "numeric_scaling = Pipeline([('scaler', StandardScaler())])\n",
    "categoric_encoding = Pipeline([('encoder',OneHotEncoder())])"
   ]
  },
  {
   "cell_type": "code",
   "execution_count": 4,
   "id": "cb1dafe7-304f-4ca3-a80b-89367df52b69",
   "metadata": {},
   "outputs": [],
   "source": [
    "num_cols = df.select_dtypes(include=['int64','float64']).columns.drop('HeartDisease')\n",
    "\n",
    "cat_cols = df.select_dtypes(include=['object']).columns"
   ]
  },
  {
   "cell_type": "code",
   "execution_count": 5,
   "id": "d269b78f-e0da-4409-bf41-77e9c999cee5",
   "metadata": {},
   "outputs": [],
   "source": [
    "preprocessing = ColumnTransformer([\n",
    "    ('numeric_features',numeric_scaling, num_cols),\n",
    "    ('categoric_features',categoric_encoding,cat_cols)],remainder='passthrough')"
   ]
  },
  {
   "cell_type": "markdown",
   "id": "07da3346-f3aa-4387-b74f-785038ae43a2",
   "metadata": {},
   "source": [
    "### Random Forest Classifier "
   ]
  },
  {
   "cell_type": "code",
   "execution_count": 7,
   "id": "f11794eb-5b86-4864-9435-631bfb0532a4",
   "metadata": {},
   "outputs": [],
   "source": [
    "base_forest = Pipeline(steps=[('processing', preprocessing),\n",
    "                           ('classifier',RandomForestClassifier())])"
   ]
  },
  {
   "cell_type": "code",
   "execution_count": 10,
   "id": "6936e71e-a8d9-4921-99d1-1bf30d3f378e",
   "metadata": {},
   "outputs": [
    {
     "name": "stdout",
     "output_type": "stream",
     "text": [
      "CPU times: user 1min 9s, sys: 1.32 s, total: 1min 11s\n",
      "Wall time: 1min 49s\n"
     ]
    },
    {
     "data": {
      "text/plain": [
       "GridSearchCV(cv=5,\n",
       "             estimator=Pipeline(steps=[('processing',\n",
       "                                        ColumnTransformer(remainder='passthrough',\n",
       "                                                          transformers=[('numeric_features',\n",
       "                                                                         Pipeline(steps=[('scaler',\n",
       "                                                                                          StandardScaler())]),\n",
       "                                                                         Index(['Age', 'RestingBP', 'Cholesterol', 'FastingBS', 'MaxHR', 'Oldpeak'], dtype='object')),\n",
       "                                                                        ('categoric_features',\n",
       "                                                                         Pipeline(steps=[('encoder',\n",
       "                                                                                          OneHotEncoder())]),\n",
       "                                                                         Index(['Sex', 'ChestPainType', 'RestingECG', 'ExerciseAngina', 'ST_Slope'], dtype='object'))])),\n",
       "                                       ('classifier',\n",
       "                                        RandomForestClassifier())]),\n",
       "             param_grid={'classifier__bootstrap': [True, False],\n",
       "                         'classifier__min_samples_leaf': [1, 2, 3],\n",
       "                         'classifier__min_samples_split': [2, 4, 6],\n",
       "                         'classifier__n_estimators': [20, 60, 100, 140]})"
      ]
     },
     "execution_count": 10,
     "metadata": {},
     "output_type": "execute_result"
    }
   ],
   "source": [
    "%%time\n",
    "# Find the best hyperparameters using GridSearchCV on the train set\n",
    "param_grid = {'classifier__n_estimators':[20,60,100,140],\n",
    "             'classifier__min_samples_split':[2,4,6],\n",
    "              'classifier__min_samples_leaf':[1,2,3],\n",
    "              'classifier__bootstrap': [True,False]\n",
    "             }\n",
    "base_forest_grid = GridSearchCV(base_forest, param_grid=param_grid, cv=5)\n",
    "base_forest_grid.fit(X_train, y_train)"
   ]
  },
  {
   "cell_type": "code",
   "execution_count": 13,
   "id": "4a696c30-8a23-49b5-8677-077531fdd8d0",
   "metadata": {},
   "outputs": [
    {
     "data": {
      "text/plain": [
       "['RandForest_clf_gridsearch.joblib']"
      ]
     },
     "execution_count": 13,
     "metadata": {},
     "output_type": "execute_result"
    }
   ],
   "source": [
    "best_forest_base = base_forest_grid.best_estimator_\n",
    "joblib.dump(best_forest_base,'RandForest_clf_gridsearch.joblib')"
   ]
  },
  {
   "cell_type": "code",
   "execution_count": 14,
   "id": "f79b4f3d-6c5e-4854-ac6c-fc1d41b1a710",
   "metadata": {},
   "outputs": [
    {
     "data": {
      "text/plain": [
       "0.8840579710144928"
      ]
     },
     "execution_count": 14,
     "metadata": {},
     "output_type": "execute_result"
    }
   ],
   "source": [
    "y_pred = best_base.predict(X_test)\n",
    "accuracy_score(y_pred,y_test)"
   ]
  },
  {
   "cell_type": "code",
   "execution_count": null,
   "id": "a76ea7f2-f940-4b15-9d5e-8605c60d9ece",
   "metadata": {},
   "outputs": [],
   "source": []
  },
  {
   "cell_type": "code",
   "execution_count": null,
   "id": "de0e0dbd-feb0-45cc-8759-25505274b1b0",
   "metadata": {},
   "outputs": [],
   "source": []
  }
 ],
 "metadata": {
  "kernelspec": {
   "display_name": "ML_env",
   "language": "python",
   "name": "ml_env"
  },
  "language_info": {
   "codemirror_mode": {
    "name": "ipython",
    "version": 3
   },
   "file_extension": ".py",
   "mimetype": "text/x-python",
   "name": "python",
   "nbconvert_exporter": "python",
   "pygments_lexer": "ipython3",
   "version": "3.6.13"
  }
 },
 "nbformat": 4,
 "nbformat_minor": 5
}
