{
 "cells": [
  {
   "cell_type": "markdown",
   "id": "a932f1e3-a95f-488a-9142-94a0c42c6900",
   "metadata": {},
   "source": [
    "### Packages"
   ]
  },
  {
   "cell_type": "code",
   "execution_count": null,
   "id": "5f5c0441-d835-46cd-83b6-348d231b6b87",
   "metadata": {},
   "outputs": [],
   "source": [
    "import pandas as pd\n",
    "import joblib \n",
    "\n",
    "from sklearn.model_selection import train_test_split \n",
    "\n",
    "from sklearn.pipeline import Pipeline\n",
    "from sklearn.preprocessing import OneHotEncoder\n",
    "from sklearn.preprocessing import StandardScaler\n",
    "from sklearn.compose import ColumnTransformer\n",
    "\n",
    "from sklearn.decomposition import PCA\n",
    "\n",
    "from sklearn.ensemble import RandomForestClassifier\n",
    "\n",
    "from sklearn.metrics import accuracy_score"
   ]
  },
  {
   "cell_type": "markdown",
   "id": "68fd4d03-ee02-42fb-97b8-7d36181327b6",
   "metadata": {},
   "source": [
    "### Data and train/test split"
   ]
  },
  {
   "cell_type": "code",
   "execution_count": null,
   "id": "4de1557f-7243-4660-add3-e8aadd1106a5",
   "metadata": {
    "jupyter": {
     "source_hidden": true
    },
    "tags": []
   },
   "outputs": [],
   "source": [
    "df = pd.read_csv('data/heart.csv')\n",
    "\n",
    "X = df.drop(columns='HeartDisease')\n",
    "y = df['HeartDisease']\n",
    "\n",
    "X_train, X_test, y_train, y_test = train_test_split(X, y, test_size=0.3)"
   ]
  },
  {
   "cell_type": "markdown",
   "id": "777548b4-f099-4e0b-b284-9d00d275e46a",
   "metadata": {},
   "source": [
    "### Preprocessing and column transformer"
   ]
  },
  {
   "cell_type": "code",
   "execution_count": 16,
   "id": "250d7e6e-e7aa-4478-8e94-5f9174d031a8",
   "metadata": {},
   "outputs": [],
   "source": [
    "numeric_scaling = Pipeline([('scaler', StandardScaler())])\n",
    "categoric_encoding = Pipeline([('encoder',OneHotEncoder())])"
   ]
  },
  {
   "cell_type": "code",
   "execution_count": 17,
   "id": "cb1dafe7-304f-4ca3-a80b-89367df52b69",
   "metadata": {},
   "outputs": [],
   "source": [
    "num_cols = df.select_dtypes(include=['int64','float64']).columns.drop('HeartDisease')\n",
    "\n",
    "cat_cols = df.select_dtypes(include=['object']).columns"
   ]
  },
  {
   "cell_type": "code",
   "execution_count": 18,
   "id": "d269b78f-e0da-4409-bf41-77e9c999cee5",
   "metadata": {},
   "outputs": [],
   "source": [
    "preprocessing = ColumnTransformer([\n",
    "    ('numeric_features',numeric_scaling, num_cols),\n",
    "    ('categoric_features',categoric_encoding,cat_cols)],remainder='passthrough')"
   ]
  },
  {
   "cell_type": "markdown",
   "id": "07da3346-f3aa-4387-b74f-785038ae43a2",
   "metadata": {},
   "source": [
    "### Random Forest Classifier "
   ]
  },
  {
   "cell_type": "code",
   "execution_count": null,
   "id": "f11794eb-5b86-4864-9435-631bfb0532a4",
   "metadata": {},
   "outputs": [],
   "source": [
    "base = Pipeline(steps=[('processing', preprocessing),\n",
    "                           ('classifier',RandomForestClassifier())])"
   ]
  }
 ],
 "metadata": {
  "kernelspec": {
   "display_name": "ML_env",
   "language": "python",
   "name": "ml_env"
  },
  "language_info": {
   "codemirror_mode": {
    "name": "ipython",
    "version": 3
   },
   "file_extension": ".py",
   "mimetype": "text/x-python",
   "name": "python",
   "nbconvert_exporter": "python",
   "pygments_lexer": "ipython3",
   "version": "3.6.13"
  }
 },
 "nbformat": 4,
 "nbformat_minor": 5
}
