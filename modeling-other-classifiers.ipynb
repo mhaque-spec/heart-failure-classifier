{
 "cells": [
  {
   "cell_type": "markdown",
   "id": "a932f1e3-a95f-488a-9142-94a0c42c6900",
   "metadata": {},
   "source": [
    "### Packages"
   ]
  },
  {
   "cell_type": "code",
   "execution_count": 33,
   "id": "5f5c0441-d835-46cd-83b6-348d231b6b87",
   "metadata": {},
   "outputs": [],
   "source": [
    "import pandas as pd\n",
    "import joblib \n",
    "\n",
    "from sklearn.model_selection import train_test_split \n",
    "\n",
    "from sklearn.pipeline import Pipeline\n",
    "from sklearn.preprocessing import OneHotEncoder\n",
    "from sklearn.preprocessing import StandardScaler\n",
    "from sklearn.compose import ColumnTransformer\n",
    "\n",
    "from sklearn.decomposition import PCA\n",
    "\n",
    "from sklearn.ensemble import RandomForestClassifier\n",
    "from sklearn.svm import SVC\n",
    "from sklearn.ensemble import AdaBoostClassifier\n",
    "from sklearn.model_selection import GridSearchCV\n",
    "\n",
    "from sklearn.metrics import accuracy_score"
   ]
  },
  {
   "cell_type": "markdown",
   "id": "68fd4d03-ee02-42fb-97b8-7d36181327b6",
   "metadata": {},
   "source": [
    "### Data and train/test split"
   ]
  },
  {
   "cell_type": "code",
   "execution_count": 2,
   "id": "4de1557f-7243-4660-add3-e8aadd1106a5",
   "metadata": {
    "tags": []
   },
   "outputs": [],
   "source": [
    "df = pd.read_csv('data/heart.csv')\n",
    "\n",
    "X = df.drop(columns='HeartDisease')\n",
    "y = df['HeartDisease']\n",
    "\n",
    "X_train, X_test, y_train, y_test = train_test_split(X, y, test_size=0.3)"
   ]
  },
  {
   "cell_type": "markdown",
   "id": "777548b4-f099-4e0b-b284-9d00d275e46a",
   "metadata": {},
   "source": [
    "### Preprocessing and column transformer"
   ]
  },
  {
   "cell_type": "code",
   "execution_count": 3,
   "id": "250d7e6e-e7aa-4478-8e94-5f9174d031a8",
   "metadata": {},
   "outputs": [],
   "source": [
    "numeric_scaling = Pipeline([('scaler', StandardScaler())])\n",
    "categoric_encoding = Pipeline([('encoder',OneHotEncoder())])"
   ]
  },
  {
   "cell_type": "code",
   "execution_count": 4,
   "id": "cb1dafe7-304f-4ca3-a80b-89367df52b69",
   "metadata": {},
   "outputs": [],
   "source": [
    "num_cols = df.select_dtypes(include=['int64','float64']).columns.drop('HeartDisease')\n",
    "\n",
    "cat_cols = df.select_dtypes(include=['object']).columns"
   ]
  },
  {
   "cell_type": "code",
   "execution_count": 5,
   "id": "d269b78f-e0da-4409-bf41-77e9c999cee5",
   "metadata": {},
   "outputs": [],
   "source": [
    "preprocessing = ColumnTransformer([\n",
    "    ('numeric_features',numeric_scaling, num_cols),\n",
    "    ('categoric_features',categoric_encoding,cat_cols)],remainder='passthrough')"
   ]
  },
  {
   "cell_type": "markdown",
   "id": "07da3346-f3aa-4387-b74f-785038ae43a2",
   "metadata": {
    "jp-MarkdownHeadingCollapsed": true,
    "tags": []
   },
   "source": [
    "### Random Forest Classifier "
   ]
  },
  {
   "cell_type": "code",
   "execution_count": 7,
   "id": "f11794eb-5b86-4864-9435-631bfb0532a4",
   "metadata": {},
   "outputs": [],
   "source": [
    "base_forest = Pipeline(steps=[('processing', preprocessing),\n",
    "                           ('classifier',RandomForestClassifier())])"
   ]
  },
  {
   "cell_type": "code",
   "execution_count": 10,
   "id": "6936e71e-a8d9-4921-99d1-1bf30d3f378e",
   "metadata": {},
   "outputs": [
    {
     "name": "stdout",
     "output_type": "stream",
     "text": [
      "CPU times: user 1min 9s, sys: 1.32 s, total: 1min 11s\n",
      "Wall time: 1min 49s\n"
     ]
    },
    {
     "data": {
      "text/plain": [
       "GridSearchCV(cv=5,\n",
       "             estimator=Pipeline(steps=[('processing',\n",
       "                                        ColumnTransformer(remainder='passthrough',\n",
       "                                                          transformers=[('numeric_features',\n",
       "                                                                         Pipeline(steps=[('scaler',\n",
       "                                                                                          StandardScaler())]),\n",
       "                                                                         Index(['Age', 'RestingBP', 'Cholesterol', 'FastingBS', 'MaxHR', 'Oldpeak'], dtype='object')),\n",
       "                                                                        ('categoric_features',\n",
       "                                                                         Pipeline(steps=[('encoder',\n",
       "                                                                                          OneHotEncoder())]),\n",
       "                                                                         Index(['Sex', 'ChestPainType', 'RestingECG', 'ExerciseAngina', 'ST_Slope'], dtype='object'))])),\n",
       "                                       ('classifier',\n",
       "                                        RandomForestClassifier())]),\n",
       "             param_grid={'classifier__bootstrap': [True, False],\n",
       "                         'classifier__min_samples_leaf': [1, 2, 3],\n",
       "                         'classifier__min_samples_split': [2, 4, 6],\n",
       "                         'classifier__n_estimators': [20, 60, 100, 140]})"
      ]
     },
     "execution_count": 10,
     "metadata": {},
     "output_type": "execute_result"
    }
   ],
   "source": [
    "%%time\n",
    "# Find the best hyperparameters using GridSearchCV on the train set\n",
    "param_grid = {'classifier__n_estimators':[20,60,100,140],\n",
    "             'classifier__min_samples_split':[2,4,6],\n",
    "              'classifier__min_samples_leaf':[1,2,3],\n",
    "              'classifier__bootstrap': [True,False]\n",
    "             }\n",
    "base_forest_grid = GridSearchCV(base_forest, param_grid=param_grid, cv=5)\n",
    "base_forest_grid.fit(X_train, y_train)"
   ]
  },
  {
   "cell_type": "code",
   "execution_count": 13,
   "id": "4a696c30-8a23-49b5-8677-077531fdd8d0",
   "metadata": {},
   "outputs": [
    {
     "data": {
      "text/plain": [
       "['RandForest_clf_gridsearch.joblib']"
      ]
     },
     "execution_count": 13,
     "metadata": {},
     "output_type": "execute_result"
    }
   ],
   "source": [
    "best_forest_base = base_forest_grid.best_estimator_\n",
    "joblib.dump(best_forest_base,'RandForest_clf_gridsearch.joblib')"
   ]
  },
  {
   "cell_type": "code",
   "execution_count": 14,
   "id": "f79b4f3d-6c5e-4854-ac6c-fc1d41b1a710",
   "metadata": {},
   "outputs": [
    {
     "data": {
      "text/plain": [
       "0.8840579710144928"
      ]
     },
     "execution_count": 14,
     "metadata": {},
     "output_type": "execute_result"
    }
   ],
   "source": [
    "y_pred = best_base.predict(X_test)\n",
    "accuracy_score(y_pred,y_test)"
   ]
  },
  {
   "cell_type": "markdown",
   "id": "5ea8f34e-79b5-4578-8d99-5435f23ed41a",
   "metadata": {
    "jp-MarkdownHeadingCollapsed": true,
    "tags": []
   },
   "source": [
    "### Random Forest Classifier with PCA added"
   ]
  },
  {
   "cell_type": "code",
   "execution_count": 7,
   "id": "749d3ebc-f53a-4094-95bb-0b4d5f217880",
   "metadata": {},
   "outputs": [],
   "source": [
    "forest_pca = Pipeline(steps=[('processing', preprocessing),\n",
    "                             ('pca',PCA()),\n",
    "                             ('classifier',RandomForestClassifier())])"
   ]
  },
  {
   "cell_type": "code",
   "execution_count": 8,
   "id": "07645dc1-ab4d-4206-a98b-3ed9a0d12d73",
   "metadata": {},
   "outputs": [
    {
     "name": "stdout",
     "output_type": "stream",
     "text": [
      "CPU times: user 7min 41s, sys: 27.5 s, total: 8min 8s\n",
      "Wall time: 6min 7s\n"
     ]
    },
    {
     "data": {
      "text/plain": [
       "GridSearchCV(cv=5,\n",
       "             estimator=Pipeline(steps=[('processing',\n",
       "                                        ColumnTransformer(remainder='passthrough',\n",
       "                                                          transformers=[('numeric_features',\n",
       "                                                                         Pipeline(steps=[('scaler',\n",
       "                                                                                          StandardScaler())]),\n",
       "                                                                         Index(['Age', 'RestingBP', 'Cholesterol', 'FastingBS', 'MaxHR', 'Oldpeak'], dtype='object')),\n",
       "                                                                        ('categoric_features',\n",
       "                                                                         Pipeline(steps=[('encoder',\n",
       "                                                                                          OneHotEncoder())]),\n",
       "                                                                         Index(['Sex', 'ChestPainType', 'RestingECG', 'ExerciseAngina', 'ST_Slope'], dtype='object'))])),\n",
       "                                       ('pca', PCA()),\n",
       "                                       ('classifier',\n",
       "                                        RandomForestClassifier())]),\n",
       "             param_grid={'classifier__bootstrap': [True, False],\n",
       "                         'classifier__min_samples_leaf': [1, 2, 3],\n",
       "                         'classifier__min_samples_split': [2, 4, 6],\n",
       "                         'classifier__n_estimators': [20, 60, 100, 140],\n",
       "                         'pca__n_components': [2, 3, 4, 5, 6]})"
      ]
     },
     "execution_count": 8,
     "metadata": {},
     "output_type": "execute_result"
    }
   ],
   "source": [
    "%%time\n",
    "# Find the best hyperparameters using GridSearchCV on the train set\n",
    "param_grid = {'pca__n_components':[2,3,4,5,6],\n",
    "              'classifier__n_estimators':[20,60,100,140],\n",
    "             'classifier__min_samples_split':[2,4,6],\n",
    "              'classifier__min_samples_leaf':[1,2,3],\n",
    "              'classifier__bootstrap': [True,False]\n",
    "             }\n",
    "forest_pca_grid = GridSearchCV(forest_pca, param_grid=param_grid, cv=5)\n",
    "forest_pca_grid.fit(X_train, y_train)"
   ]
  },
  {
   "cell_type": "code",
   "execution_count": 9,
   "id": "5da08632-523a-4063-a32f-84fe83c71efd",
   "metadata": {},
   "outputs": [
    {
     "data": {
      "text/plain": [
       "['RForest-pca_gridsearch.joblib']"
      ]
     },
     "execution_count": 9,
     "metadata": {},
     "output_type": "execute_result"
    }
   ],
   "source": [
    "best_forest_pca = forest_pca_grid.best_estimator_\n",
    "joblib.dump(best_forest_pca,'RForest-pca_gridsearch.joblib')"
   ]
  },
  {
   "cell_type": "code",
   "execution_count": 10,
   "id": "028465f5-1e0d-4bfc-b2d1-0f68feb0bcf9",
   "metadata": {},
   "outputs": [
    {
     "data": {
      "text/plain": [
       "0.8152173913043478"
      ]
     },
     "execution_count": 10,
     "metadata": {},
     "output_type": "execute_result"
    }
   ],
   "source": [
    "y_pred = best_forest_pca.predict(X_test)\n",
    "accuracy_score(y_pred,y_test)"
   ]
  },
  {
   "cell_type": "markdown",
   "id": "160b0937-ad1a-433a-82b6-dfefe0411e8d",
   "metadata": {
    "tags": []
   },
   "source": [
    "### SVC "
   ]
  },
  {
   "cell_type": "code",
   "execution_count": 25,
   "id": "90165737-528e-4d4c-a9a0-f191661ebefd",
   "metadata": {},
   "outputs": [],
   "source": [
    "svc = Pipeline(steps=[('processing', preprocessing),\n",
    "                             ('svc',SVC())])"
   ]
  },
  {
   "cell_type": "code",
   "execution_count": 26,
   "id": "dd14ab49-8b70-45b0-80c8-40e98511aeef",
   "metadata": {},
   "outputs": [
    {
     "name": "stdout",
     "output_type": "stream",
     "text": [
      "CPU times: user 741 ms, sys: 8.93 ms, total: 749 ms\n",
      "Wall time: 851 ms\n"
     ]
    },
    {
     "data": {
      "text/plain": [
       "GridSearchCV(cv=5,\n",
       "             estimator=Pipeline(steps=[('processing',\n",
       "                                        ColumnTransformer(remainder='passthrough',\n",
       "                                                          transformers=[('numeric_features',\n",
       "                                                                         Pipeline(steps=[('scaler',\n",
       "                                                                                          StandardScaler())]),\n",
       "                                                                         Index(['Age', 'RestingBP', 'Cholesterol', 'FastingBS', 'MaxHR', 'Oldpeak'], dtype='object')),\n",
       "                                                                        ('categoric_features',\n",
       "                                                                         Pipeline(steps=[('encoder',\n",
       "                                                                                          OneHotEncoder())]),\n",
       "                                                                         Index(['Sex', 'ChestPainType', 'RestingECG', 'ExerciseAngina', 'ST_Slope'], dtype='object'))])),\n",
       "                                       ('svc', SVC())]),\n",
       "             param_grid={'svc__C': [0.01, 0.1, 0.5, 1]})"
      ]
     },
     "execution_count": 26,
     "metadata": {},
     "output_type": "execute_result"
    }
   ],
   "source": [
    "%%time\n",
    "# Find the best hyperparameters using GridSearchCV on the train set\n",
    "param_grid = {'svc__C':[0.01,0.1,0.5,1]}\n",
    "base_svc_grid = GridSearchCV(svc, param_grid=param_grid, cv=5)\n",
    "base_svc_grid.fit(X_train, y_train)"
   ]
  },
  {
   "cell_type": "code",
   "execution_count": 27,
   "id": "4eb583c9-365c-4941-b15a-b69919d014c9",
   "metadata": {},
   "outputs": [
    {
     "data": {
      "text/plain": [
       "['base-svc_gridsearch.joblib']"
      ]
     },
     "execution_count": 27,
     "metadata": {},
     "output_type": "execute_result"
    }
   ],
   "source": [
    "best_svc = base_svc_grid.best_estimator_\n",
    "joblib.dump(best_svc,'base-svc_gridsearch.joblib')"
   ]
  },
  {
   "cell_type": "code",
   "execution_count": 28,
   "id": "259454c7-38a5-452b-a15a-214c29d494f4",
   "metadata": {},
   "outputs": [
    {
     "data": {
      "text/plain": [
       "0.8586956521739131"
      ]
     },
     "execution_count": 28,
     "metadata": {},
     "output_type": "execute_result"
    }
   ],
   "source": [
    "y_pred = best_svc.predict(X_test)\n",
    "accuracy_score(y_pred,y_test)"
   ]
  },
  {
   "cell_type": "markdown",
   "id": "ca75f391-51f6-4a1d-b5c2-0c602e7d3026",
   "metadata": {},
   "source": [
    "#### SVM but kernel gridsearch"
   ]
  },
  {
   "cell_type": "code",
   "execution_count": 30,
   "id": "07403d59-b155-45f2-9fbc-d0eeda5b2ff1",
   "metadata": {},
   "outputs": [
    {
     "name": "stdout",
     "output_type": "stream",
     "text": [
      "CPU times: user 2.35 s, sys: 33.3 ms, total: 2.38 s\n",
      "Wall time: 2.62 s\n"
     ]
    },
    {
     "data": {
      "text/plain": [
       "GridSearchCV(cv=5,\n",
       "             estimator=Pipeline(steps=[('processing',\n",
       "                                        ColumnTransformer(remainder='passthrough',\n",
       "                                                          transformers=[('numeric_features',\n",
       "                                                                         Pipeline(steps=[('scaler',\n",
       "                                                                                          StandardScaler())]),\n",
       "                                                                         Index(['Age', 'RestingBP', 'Cholesterol', 'FastingBS', 'MaxHR', 'Oldpeak'], dtype='object')),\n",
       "                                                                        ('categoric_features',\n",
       "                                                                         Pipeline(steps=[('encoder',\n",
       "                                                                                          OneHotEncoder())]),\n",
       "                                                                         Index(['Sex', 'ChestPainType', 'RestingECG', 'ExerciseAngina', 'ST_Slope'], dtype='object'))])),\n",
       "                                       ('svc', SVC())]),\n",
       "             param_grid={'svc__C': [0.01, 0.1, 0.5, 1],\n",
       "                         'svc__kernel': ['linear', 'poly', 'rbf']})"
      ]
     },
     "execution_count": 30,
     "metadata": {},
     "output_type": "execute_result"
    }
   ],
   "source": [
    "%%time\n",
    "# Find the best hyperparameters using GridSearchCV on the train set\n",
    "param_grid = {'svc__C':[0.01,0.1,0.5,1],\n",
    "             'svc__kernel':['linear','poly', 'rbf']\n",
    "             }\n",
    "svc_grid = GridSearchCV(svc, param_grid=param_grid, cv=5)\n",
    "svc_grid.fit(X_train, y_train)"
   ]
  },
  {
   "cell_type": "code",
   "execution_count": 31,
   "id": "7fac6bca-6594-4a22-8a66-1a8bda5c2076",
   "metadata": {},
   "outputs": [
    {
     "data": {
      "text/plain": [
       "0.8405797101449275"
      ]
     },
     "execution_count": 31,
     "metadata": {},
     "output_type": "execute_result"
    }
   ],
   "source": [
    "test_svc = svc_grid.best_estimator_\n",
    "y_pred = test_svc.predict(X_test)\n",
    "accuracy_score(y_pred,y_test)"
   ]
  },
  {
   "cell_type": "markdown",
   "id": "6338efe3-a244-428f-a548-8c7d6788f0d8",
   "metadata": {
    "tags": []
   },
   "source": [
    "### Adaboost"
   ]
  },
  {
   "cell_type": "code",
   "execution_count": 34,
   "id": "338f5daf-4b80-4a9e-bac3-c7d78aebe762",
   "metadata": {},
   "outputs": [],
   "source": [
    "ada = Pipeline(steps=[('processing', preprocessing),\n",
    "                             ('adaboost',AdaBoostClassifier())])"
   ]
  },
  {
   "cell_type": "code",
   "execution_count": null,
   "id": "5fefc3ed-308f-4a95-b38f-556b1b3f0ef4",
   "metadata": {},
   "outputs": [],
   "source": [
    "%%time\n",
    "# Find the best hyperparameters using GridSearchCV on the train set\n",
    "param_grid = {'adaboost__n_estimators':[25,50,75,100],\n",
    "             'adaboost__learning_rate':[0.1,0.3,0.5,0.7,1]\n",
    "             }\n",
    "base_ada_grid = GridSearchCV(ada, param_grid=param_grid, cv=5)\n",
    "base_ada_grid.fit(X_train, y_train)"
   ]
  },
  {
   "cell_type": "code",
   "execution_count": null,
   "id": "d511d10e-4e71-4bb8-a6a7-6e982f420f96",
   "metadata": {},
   "outputs": [],
   "source": []
  }
 ],
 "metadata": {
  "kernelspec": {
   "display_name": "ML_env",
   "language": "python",
   "name": "ml_env"
  },
  "language_info": {
   "codemirror_mode": {
    "name": "ipython",
    "version": 3
   },
   "file_extension": ".py",
   "mimetype": "text/x-python",
   "name": "python",
   "nbconvert_exporter": "python",
   "pygments_lexer": "ipython3",
   "version": "3.6.13"
  }
 },
 "nbformat": 4,
 "nbformat_minor": 5
}
